{
 "cells": [
  {
   "cell_type": "code",
   "execution_count": null,
   "metadata": {},
   "outputs": [],
   "source": [
    "%run \"P:\\Flat-Field-Correction\\Functions.py\""
   ]
  },
  {
   "cell_type": "code",
   "execution_count": null,
   "metadata": {},
   "outputs": [],
   "source": [
    "# Import Images\n",
    "data = skimage.io.ImageCollection('*.tif', conserve_memory=False, load_func=imread_rgb)\n",
    "ZO1 = [image for image in data]"
   ]
  },
  {
   "cell_type": "code",
   "execution_count": null,
   "metadata": {},
   "outputs": [],
   "source": [
    "# Sum image intensities and select images with the greatest amount of signal\n",
    "image_sum_stat = pd.Series([np.sum(image) for image in ZO1])\n",
    "image_sum_percentile = image_sum_stat.quantile(.90)\n",
    "\n",
    "blurred_percent_data = []\n",
    "\n",
    "# gaussian blur images to mimic light distribution for each channel\n",
    "for index, image in tqdm(enumerate(ZO1)):\n",
    "    if np.sum(image) > image_sum_percentile:\n",
    "        image_blur = skimage.filters.gaussian(image, sigma=30)\n",
    "        blurred_percent_data.append(image_blur)\n",
    "    else:\n",
    "        pass\n",
    "\n",
    "burred_data_array = skimage.io.concatenate_images(blurred_percent_data)"
   ]
  },
  {
   "cell_type": "code",
   "execution_count": null,
   "metadata": {},
   "outputs": [],
   "source": [
    "# Calulate reference image by taking median intensity of each pixel between the image set\n",
    "reference = np.median(burred_data_array, axis=0)\n",
    "plt.imshow(reference, cmap='gray')"
   ]
  },
  {
   "cell_type": "code",
   "execution_count": null,
   "metadata": {},
   "outputs": [],
   "source": [
    "# Export 8 bit and 16 bit refernce images\n",
    "%cd \"Output\"\n",
    "ref_8 = skimage.img_as_ubyte(reference)\n",
    "ref_16 = skimage.img_as_uint(reference)\n",
    "skimage.io.imsave('ref_16.tif', ref_16)\n",
    "skimage.io.imsave('ref_8.tif', ref_8)"
   ]
  }
 ],
 "metadata": {
  "kernelspec": {
   "display_name": "Python 3",
   "language": "python",
   "name": "python3"
  },
  "language_info": {
   "codemirror_mode": {
    "name": "ipython",
    "version": 3
   },
   "file_extension": ".py",
   "mimetype": "text/x-python",
   "name": "python",
   "nbconvert_exporter": "python",
   "pygments_lexer": "ipython3",
   "version": "3.7.1"
  }
 },
 "nbformat": 4,
 "nbformat_minor": 2
}
